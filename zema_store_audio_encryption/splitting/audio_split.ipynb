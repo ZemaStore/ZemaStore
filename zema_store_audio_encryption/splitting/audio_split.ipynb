{
 "cells": [
  {
   "cell_type": "code",
   "execution_count": 1,
   "metadata": {},
   "outputs": [],
   "source": [
    "# Import the AudioSegment class for processing audio and the \n",
    "# split_on_silence function for separating out silent chunks.\n",
    "\n",
    "from pydub import AudioSegment\n",
    "from pydub.silence import split_on_silence\n"
   ]
  },
  {
   "cell_type": "code",
   "execution_count": 2,
   "metadata": {},
   "outputs": [],
   "source": [
    "# Define a function to normalize a chunk to a target amplitude.\n",
    "def match_target_amplitude(aChunk, target_dBFS):\n",
    "    ''' Normalize given audio chunk '''\n",
    "    change_in_dBFS = target_dBFS - aChunk.dBFS\n",
    "    return aChunk.apply_gain(change_in_dBFS)\n"
   ]
  },
  {
   "cell_type": "code",
   "execution_count": 3,
   "metadata": {},
   "outputs": [
    {
     "name": "stdout",
     "output_type": "stream",
     "text": [
      "-37\n"
     ]
    }
   ],
   "source": [
    "import math\n",
    "# Load your audio.\n",
    "song = AudioSegment.from_file(\"audio.wav\", format=\"wav\")\n",
    "print(math.floor(song.dBFS))\n"
   ]
  },
  {
   "cell_type": "code",
   "execution_count": 49,
   "metadata": {},
   "outputs": [
    {
     "name": "stdout",
     "output_type": "stream",
     "text": [
      "5 is chunks\n",
      "-37\n"
     ]
    }
   ],
   "source": [
    "import math\n",
    "# Split track where the silence is 2 seconds or more and get chunks using \n",
    "# the imported function.\n",
    "chunks = split_on_silence (\n",
    "    # Use the loaded audio.\n",
    "    song, \n",
    "    # Specify that a silent chunk must be at least 2 seconds or 2000 ms long.\n",
    "    min_silence_len = 500,\n",
    "    # Consider a chunk silent if it's quieter than -16 dBFS.\n",
    "    # (You may want to adjust this parameter.)\n",
    "    silence_thresh = -37,\n",
    "    \n",
    ")\n",
    "print(len(chunks), \"is chunks\")\n",
    "print(math.floor(song.dBFS))\n"
   ]
  },
  {
   "cell_type": "code",
   "execution_count": 50,
   "metadata": {},
   "outputs": [
    {
     "name": "stdout",
     "output_type": "stream",
     "text": [
      "Exporting chunk0.mp3.\n",
      "Exporting chunk1.mp3.\n",
      "Exporting chunk2.mp3.\n",
      "Exporting chunk3.mp3.\n",
      "Exporting chunk4.mp3.\n"
     ]
    }
   ],
   "source": [
    "# Process each chunk with your parameters\n",
    "for i, chunk in enumerate(chunks):\n",
    "    # Create a silence chunk that's 0.5 seconds (or 500 ms) long for padding.\n",
    "    silence_chunk = AudioSegment.silent(duration=500)\n",
    "\n",
    "    # Add the padding chunk to beginning and end of the entire chunk.\n",
    "    # audio_chunk = silence_chunk + chunk + silence_chunk\n",
    "    audio_chunk = chunk\n",
    "\n",
    "    # Normalize the entire chunk.\n",
    "    normalized_chunk = match_target_amplitude(audio_chunk, -20.0)\n",
    "\n",
    "    # Export the audio chunk with new bitrate.\n",
    "    print(\"Exporting chunk{0}.mp3.\".format(i))\n",
    "    normalized_chunk.export(\n",
    "        \".//chunk{0}.mp3\".format(i),\n",
    "        bitrate = \"192k\",\n",
    "        format = \"mp3\"\n",
    "    )"
   ]
  },
  {
   "cell_type": "code",
   "execution_count": 52,
   "metadata": {},
   "outputs": [],
   "source": [
    "sound0 = AudioSegment.from_mp3(\"chunk0.mp3\")\n",
    "sound1 = AudioSegment.from_mp3(\"chunk1.mp3\")\n",
    "sound2 = AudioSegment.from_mp3(\"chunk2.mp3\")\n",
    "sound3 = AudioSegment.from_mp3(\"chunk3.mp3\")\n",
    "sound4 = AudioSegment.from_mp3(\"chunk4.mp3\")\n",
    "\n",
    "combined = sound0 + sound1 + sound2 + sound3 + sound4 \n",
    "\n",
    "file_handle = combined.export(\"output.wav\", format=\"wav\")"
   ]
  }
 ],
 "metadata": {
  "interpreter": {
   "hash": "906af0c1521a6a2794edc7b62c92e4c29cbdfb665213f44bcb4a27ef2861f54b"
  },
  "kernelspec": {
   "display_name": "Python 3.8.2 ('base')",
   "language": "python",
   "name": "python3"
  },
  "language_info": {
   "codemirror_mode": {
    "name": "ipython",
    "version": 3
   },
   "file_extension": ".py",
   "mimetype": "text/x-python",
   "name": "python",
   "nbconvert_exporter": "python",
   "pygments_lexer": "ipython3",
   "version": "3.8.2"
  },
  "orig_nbformat": 4
 },
 "nbformat": 4,
 "nbformat_minor": 2
}
